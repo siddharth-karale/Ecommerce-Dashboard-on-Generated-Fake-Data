{
 "cells": [
  {
   "cell_type": "code",
   "execution_count": 9,
   "id": "947ee11b-4382-4ce9-b0dd-960e6d1c0446",
   "metadata": {},
   "outputs": [],
   "source": [
    "from faker import Faker\n",
    "import pandas as pd\n",
    "import numpy as np\n",
    "import random"
   ]
  },
  {
   "cell_type": "code",
   "execution_count": 10,
   "id": "2bf7d913-a803-47b0-9e31-fba91b12ecc4",
   "metadata": {},
   "outputs": [],
   "source": [
    "fake = Faker()"
   ]
  },
  {
   "cell_type": "code",
   "execution_count": 7,
   "id": "cdea8fbb-0c3a-4928-824c-1307e8654306",
   "metadata": {},
   "outputs": [],
   "source": [
    "# Users table\n",
    "def create_users(n):\n",
    "    users = []\n",
    "    for _ in range(n):\n",
    "        users.append({\n",
    "            \"user_id\": fake.uuid4(),\n",
    "            \"name\": fake.name(),\n",
    "            \"email\": fake.email(),\n",
    "            \"password\": fake.password(),\n",
    "            \"date_of_birth\": fake.date_of_birth(minimum_age=18, maximum_age=90),\n",
    "            \"created_at\": fake.date_time_this_decade()\n",
    "        })\n",
    "    return pd.DataFrame(users)"
   ]
  },
  {
   "cell_type": "code",
   "execution_count": 6,
   "id": "98480f69-7f20-4c9c-a20f-607b89a7c76f",
   "metadata": {},
   "outputs": [],
   "source": [
    "# Categories table\n",
    "def create_categories(n):\n",
    "    categories = []\n",
    "    for _ in range(n):\n",
    "        categories.append({\n",
    "            \"category_id\": fake.uuid4(),\n",
    "            \"category_name\": fake.word()\n",
    "        })\n",
    "    return pd.DataFrame(categories)"
   ]
  },
  {
   "cell_type": "code",
   "execution_count": 7,
   "id": "7ff70537-4c98-47f1-9df8-1a3e51ed4bcd",
   "metadata": {},
   "outputs": [],
   "source": [
    "# Products table\n",
    "def create_products(n, category_ids):\n",
    "    products = []\n",
    "    for _ in range(n):\n",
    "        products.append({\n",
    "            \"product_id\": fake.uuid4(),\n",
    "            \"product_name\": fake.word(),\n",
    "            \"price\": round(random.uniform(10.0, 1000.0), 2),\n",
    "            \"category_id\": random.choice(category_ids),\n",
    "            \"created_at\": fake.date_time_this_decade()\n",
    "        })\n",
    "    return pd.DataFrame(products)"
   ]
  },
  {
   "cell_type": "code",
   "execution_count": 8,
   "id": "b9ee42dc-ca36-467b-aef4-84ed105efa37",
   "metadata": {},
   "outputs": [],
   "source": [
    "# Orders table\n",
    "def create_orders(n, user_ids):\n",
    "    orders = []\n",
    "    for _ in range(n):\n",
    "        orders.append({\n",
    "            \"order_id\": fake.uuid4(),\n",
    "            \"user_id\": random.choice(user_ids),\n",
    "            \"order_date\": fake.date_time_this_decade(),\n",
    "            \"total_amount\": round(random.uniform(50.0, 5000.0), 2)\n",
    "        })\n",
    "    return pd.DataFrame(orders)"
   ]
  },
  {
   "cell_type": "code",
   "execution_count": 9,
   "id": "59850ac1-56d0-454d-b746-746aff6bc025",
   "metadata": {},
   "outputs": [],
   "source": [
    "# OrderItems table\n",
    "def create_order_items(n, order_ids, product_ids):\n",
    "    order_items = []\n",
    "    for _ in range(n):\n",
    "        order_items.append({\n",
    "            \"order_item_id\": fake.uuid4(),\n",
    "            \"order_id\": random.choice(order_ids),\n",
    "            \"product_id\": random.choice(product_ids),\n",
    "            \"quantity\": random.randint(1, 10),\n",
    "            \"price\": round(random.uniform(10.0, 1000.0), 2)\n",
    "        })\n",
    "    return pd.DataFrame(order_items)"
   ]
  },
  {
   "cell_type": "code",
   "execution_count": 10,
   "id": "9d79232c-6e04-4f9a-a854-9aab361c259d",
   "metadata": {},
   "outputs": [],
   "source": [
    "# Reviews table\n",
    "def create_reviews(n, user_ids, product_ids):\n",
    "    reviews = []\n",
    "    for _ in range(n):\n",
    "        reviews.append({\n",
    "            \"review_id\": fake.uuid4(),\n",
    "            \"user_id\": random.choice(user_ids),\n",
    "            \"product_id\": random.choice(product_ids),\n",
    "            \"rating\": random.randint(1, 5),\n",
    "            \"comment\": fake.sentence(),\n",
    "            \"review_date\": fake.date_time_this_decade()\n",
    "        })\n",
    "    return pd.DataFrame(reviews)"
   ]
  },
  {
   "cell_type": "code",
   "execution_count": 11,
   "id": "0f3364e3-c512-49bd-9164-b0bc5755d601",
   "metadata": {},
   "outputs": [],
   "source": [
    "# Addresses table\n",
    "def create_addresses(n, user_ids):\n",
    "    addresses = []\n",
    "    for _ in range(n):\n",
    "        addresses.append({\n",
    "            \"address_id\": fake.uuid4(),\n",
    "            \"user_id\": random.choice(user_ids),\n",
    "            \"address\": fake.address(),\n",
    "            \"city\": fake.city(),\n",
    "            \"state\": fake.state(),\n",
    "            \"zip_code\": fake.zipcode(),\n",
    "            \"country\": fake.country()\n",
    "        })\n",
    "    return pd.DataFrame(addresses)"
   ]
  },
  {
   "cell_type": "code",
   "execution_count": 12,
   "id": "40cebd79-e84e-49af-a7dd-8c2b7b2795b1",
   "metadata": {},
   "outputs": [],
   "source": [
    "# Payments table\n",
    "def create_payments(n, order_ids):\n",
    "    payments = []\n",
    "    for _ in range(n):\n",
    "        payments.append({\n",
    "            \"payment_id\": fake.uuid4(),\n",
    "            \"order_id\": random.choice(order_ids),\n",
    "            \"payment_date\": fake.date_time_this_decade(),\n",
    "            \"payment_method\": random.choice([\"Credit Card\", \"PayPal\", \"Bank Transfer\"]),\n",
    "            \"amount\": round(random.uniform(50.0, 5000.0), 2)\n",
    "        })\n",
    "    return pd.DataFrame(payments)"
   ]
  },
  {
   "cell_type": "code",
   "execution_count": 2,
   "id": "2fe7fcbd-c726-4409-8801-e61629b1e652",
   "metadata": {},
   "outputs": [],
   "source": [
    "# Generate data\n",
    "num_users = 100\n",
    "num_categories = 10\n",
    "num_products = 100\n",
    "num_orders = 200\n",
    "num_order_items = 500\n",
    "num_reviews = 300\n",
    "num_addresses = 150\n",
    "num_payments = 200"
   ]
  },
  {
   "cell_type": "code",
   "execution_count": 14,
   "id": "bb0c709e-0fef-47a0-a23b-cef900e2dbbb",
   "metadata": {},
   "outputs": [],
   "source": [
    "users_df = create_users(num_users)\n",
    "categories_df = create_categories(num_categories)\n",
    "products_df = create_products(num_products, categories_df['category_id'].tolist())\n",
    "orders_df = create_orders(num_orders, users_df['user_id'].tolist())\n",
    "order_items_df = create_order_items(num_order_items, orders_df['order_id'].tolist(), products_df['product_id'].tolist())\n",
    "reviews_df = create_reviews(num_reviews, users_df['user_id'].tolist(), products_df['product_id'].tolist())\n",
    "addresses_df = create_addresses(num_addresses, users_df['user_id'].tolist())\n",
    "payments_df = create_payments(num_payments, orders_df['order_id'].tolist())"
   ]
  },
  {
   "cell_type": "code",
   "execution_count": 15,
   "id": "1ed27d3a-4ff9-4c32-b9ca-e7ae439796b8",
   "metadata": {},
   "outputs": [],
   "source": [
    "# Save to CSV files\n",
    "users_df.to_csv('users.csv', index=False)\n",
    "categories_df.to_csv('categories.csv', index=False)\n",
    "products_df.to_csv('products.csv', index=False)\n",
    "orders_df.to_csv('orders.csv', index=False)\n",
    "order_items_df.to_csv('order_items.csv', index=False)\n",
    "reviews_df.to_csv('reviews.csv', index=False)\n",
    "addresses_df.to_csv('addresses.csv', index=False)\n",
    "payments_df.to_csv('payments.csv', index=False)"
   ]
  }
 ],
 "metadata": {
  "kernelspec": {
   "display_name": "Python 3 (ipykernel)",
   "language": "python",
   "name": "python3"
  },
  "language_info": {
   "codemirror_mode": {
    "name": "ipython",
    "version": 3
   },
   "file_extension": ".py",
   "mimetype": "text/x-python",
   "name": "python",
   "nbconvert_exporter": "python",
   "pygments_lexer": "ipython3",
   "version": "3.9.18"
  }
 },
 "nbformat": 4,
 "nbformat_minor": 5
}
